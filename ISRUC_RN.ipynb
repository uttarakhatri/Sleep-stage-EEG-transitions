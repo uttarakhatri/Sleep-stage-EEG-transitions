{
  "nbformat": 4,
  "nbformat_minor": 0,
  "metadata": {
    "colab": {
      "provenance": [],
      "mount_file_id": "1m2EMEwpcMYIA0oB-Tup-NPtwQXOSpuU5",
      "authorship_tag": "ABX9TyNDNSzjz2CYmZycwpyqTBan",
      "include_colab_link": true
    },
    "kernelspec": {
      "name": "python3",
      "display_name": "Python 3"
    }
  },
  "cells": [
    {
      "cell_type": "markdown",
      "metadata": {
        "id": "view-in-github",
        "colab_type": "text"
      },
      "source": [
        "<a href=\"https://colab.research.google.com/github/uttarakhatri/Sleep-stage-EEG-transitions/blob/main/ISRUC_RN.ipynb\" target=\"_parent\"><img src=\"https://colab.research.google.com/assets/colab-badge.svg\" alt=\"Open In Colab\"/></a>"
      ]
    },
    {
      "cell_type": "code",
      "metadata": {
        "id": "EBInXFBnQF8q"
      },
      "source": [
        "#embedding dimension\n",
        "\n",
        "from nolitsa import data, dimension\n",
        "\n",
        "# Generate data.\n",
        "x = sub1_data[3][:50000]\n",
        "mean= mean(sub1_data[3])\n",
        "dim = np.arange(1, 11)\n",
        "f1, f2, f3 = dimension.fnn(x, tau=tau[100], dim=dim, window=10, metric='euclidean', maxnum=100)\n",
        "\n",
        "plt.title(r'FNN for EEG')\n",
        "plt.xlabel(r'Embedding dimension $d$')\n",
        "plt.ylabel(r'FNN (%)')\n",
        "plt.plot(dim, 100 * f1, 'bo--')\n",
        "print(f1*100)\n",
        "#plt.plot(dim, 100 * f2, 'g^--', label=r'Test II')\n",
        "#plt.plot(dim, 100 * f3, 'rs-', label=r'Test I + II')\n",
        "plt.legend()\n",
        "\n",
        "plt.show()"
      ],
      "execution_count": null,
      "outputs": []
    },
    {
      "cell_type": "code",
      "metadata": {
        "id": "F7AVXaUq9grT",
        "outputId": "c5c0de5d-22cd-43fd-c4c8-bc213271a145",
        "colab": {
          "base_uri": "https://localhost:8080/"
        }
      },
      "source": [
        "!pip install pyunicorn\n",
        "!pip install git+https://github.com/manu-mannattil/nolitsa.git"
      ],
      "execution_count": null,
      "outputs": [
        {
          "output_type": "stream",
          "text": [
            "Requirement already satisfied: pyunicorn in /usr/local/lib/python3.6/dist-packages (0.6.1)\n",
            "Requirement already satisfied: python-igraph>=0.7 in /usr/local/lib/python3.6/dist-packages (from pyunicorn) (0.8.3)\n",
            "Requirement already satisfied: numpy>=1.14 in /usr/local/lib/python3.6/dist-packages (from pyunicorn) (1.18.5)\n",
            "Requirement already satisfied: scipy>=1.0 in /usr/local/lib/python3.6/dist-packages (from pyunicorn) (1.4.1)\n",
            "Requirement already satisfied: texttable>=1.6.2 in /usr/local/lib/python3.6/dist-packages (from python-igraph>=0.7->pyunicorn) (1.6.3)\n",
            "Collecting git+https://github.com/manu-mannattil/nolitsa.git\n",
            "  Cloning https://github.com/manu-mannattil/nolitsa.git to /tmp/pip-req-build-413ktn47\n",
            "  Running command git clone -q https://github.com/manu-mannattil/nolitsa.git /tmp/pip-req-build-413ktn47\n",
            "Requirement already satisfied (use --upgrade to upgrade): nolitsa==0.1 from git+https://github.com/manu-mannattil/nolitsa.git in /usr/local/lib/python3.6/dist-packages\n",
            "Requirement already satisfied: numpy>=1.11.0 in /usr/local/lib/python3.6/dist-packages (from nolitsa==0.1) (1.18.5)\n",
            "Requirement already satisfied: scipy>=0.17.0 in /usr/local/lib/python3.6/dist-packages (from nolitsa==0.1) (1.4.1)\n",
            "Building wheels for collected packages: nolitsa\n",
            "  Building wheel for nolitsa (setup.py) ... \u001b[?25l\u001b[?25hdone\n",
            "  Created wheel for nolitsa: filename=nolitsa-0.1-cp36-none-any.whl size=31134 sha256=d8468cb734c3825d0e24e5612518e4a9a22d2820be54c5c661fbf577f1722645\n",
            "  Stored in directory: /tmp/pip-ephem-wheel-cache-zkqp1m4q/wheels/9b/2e/49/14f1c7a1b4acd6716bb946b6b40d722c4be76fd0e5b1ade611\n",
            "Successfully built nolitsa\n"
          ],
          "name": "stdout"
        }
      ]
    },
    {
      "cell_type": "code",
      "metadata": {
        "id": "bSngedd2STfV",
        "outputId": "523e7585-d7ef-4034-9821-05a0a749c06e",
        "colab": {
          "base_uri": "https://localhost:8080/"
        }
      },
      "source": [
        "cd /usr/local/lib/python3.6/dist-packages/pyunicorn"
      ],
      "execution_count": null,
      "outputs": [
        {
          "output_type": "stream",
          "text": [
            "/usr/local/lib/python3.6/dist-packages/pyunicorn\n"
          ],
          "name": "stdout"
        }
      ]
    },
    {
      "cell_type": "code",
      "metadata": {
        "id": "xVtpMuugTIlH",
        "outputId": "cff68474-f7ad-40bc-ce71-703ff80d9ffa",
        "colab": {
          "base_uri": "https://localhost:8080/"
        }
      },
      "source": [
        "!rm __init__.py"
      ],
      "execution_count": null,
      "outputs": [
        {
          "output_type": "stream",
          "text": [
            "rm: cannot remove '__init__.py': No such file or directory\n"
          ],
          "name": "stdout"
        }
      ]
    },
    {
      "cell_type": "code",
      "metadata": {
        "id": "L3-cUVPL9zjQ",
        "outputId": "9e00c565-5fe7-4fde-9bb0-bd84cd1bce09",
        "colab": {
          "base_uri": "https://localhost:8080/"
        }
      },
      "source": [
        "import toolz\n",
        "import numpy as np\n",
        "import statistics as st\n",
        "import matplotlib.pyplot as plt\n",
        "sub2_data= np.load('/content/drive/My Drive/sleep/ISRUC_sleep_dataset/2/sub2_ica.npy')\n",
        "mea= [st.mean(sublist) for sublist in toolz.partition_all(6, sub2_data[3])]\n",
        "print(len(mea))"
      ],
      "execution_count": null,
      "outputs": [
        {
          "output_type": "stream",
          "text": [
            "941000\n"
          ],
          "name": "stdout"
        }
      ]
    },
    {
      "cell_type": "code",
      "metadata": {
        "id": "2-LbVhPtC9uj",
        "outputId": "b6c16e02-cabc-49d1-896a-9f035d99d42b",
        "colab": {
          "base_uri": "https://localhost:8080/",
          "height": 231
        }
      },
      "source": [
        "sub1_data[0]= 0.2*sub1_data[0]\n",
        "len=5000\n",
        "plt.scatter(sub1_data[0][:len:10], mea, s= 0.3, color= 'red')\n",
        "plt.plot(sub1_data[0][:len], sub1_data[3][:len], alpha=0.6)\n",
        "plt.title('Binned every 10 points')\n",
        "plt.xlabel('time')\n",
        "plt.ylabel('signal')\n",
        "\n",
        "plt.show()"
      ],
      "execution_count": null,
      "outputs": [
        {
          "output_type": "error",
          "ename": "NameError",
          "evalue": "ignored",
          "traceback": [
            "\u001b[0;31m---------------------------------------------------------------------------\u001b[0m",
            "\u001b[0;31mNameError\u001b[0m                                 Traceback (most recent call last)",
            "\u001b[0;32m<ipython-input-14-a99f25c644ac>\u001b[0m in \u001b[0;36m<module>\u001b[0;34m()\u001b[0m\n\u001b[0;32m----> 1\u001b[0;31m \u001b[0msub1_data\u001b[0m\u001b[0;34m[\u001b[0m\u001b[0;36m0\u001b[0m\u001b[0;34m]\u001b[0m\u001b[0;34m=\u001b[0m \u001b[0;36m0.2\u001b[0m\u001b[0;34m*\u001b[0m\u001b[0msub1_data\u001b[0m\u001b[0;34m[\u001b[0m\u001b[0;36m0\u001b[0m\u001b[0;34m]\u001b[0m\u001b[0;34m\u001b[0m\u001b[0;34m\u001b[0m\u001b[0m\n\u001b[0m\u001b[1;32m      2\u001b[0m \u001b[0mlen\u001b[0m\u001b[0;34m=\u001b[0m\u001b[0;36m5000\u001b[0m\u001b[0;34m\u001b[0m\u001b[0;34m\u001b[0m\u001b[0m\n\u001b[1;32m      3\u001b[0m \u001b[0mplt\u001b[0m\u001b[0;34m.\u001b[0m\u001b[0mscatter\u001b[0m\u001b[0;34m(\u001b[0m\u001b[0msub1_data\u001b[0m\u001b[0;34m[\u001b[0m\u001b[0;36m0\u001b[0m\u001b[0;34m]\u001b[0m\u001b[0;34m[\u001b[0m\u001b[0;34m:\u001b[0m\u001b[0mlen\u001b[0m\u001b[0;34m:\u001b[0m\u001b[0;36m10\u001b[0m\u001b[0;34m]\u001b[0m\u001b[0;34m,\u001b[0m \u001b[0mmea\u001b[0m\u001b[0;34m,\u001b[0m \u001b[0ms\u001b[0m\u001b[0;34m=\u001b[0m \u001b[0;36m0.3\u001b[0m\u001b[0;34m,\u001b[0m \u001b[0mcolor\u001b[0m\u001b[0;34m=\u001b[0m \u001b[0;34m'red'\u001b[0m\u001b[0;34m)\u001b[0m\u001b[0;34m\u001b[0m\u001b[0;34m\u001b[0m\u001b[0m\n\u001b[1;32m      4\u001b[0m \u001b[0mplt\u001b[0m\u001b[0;34m.\u001b[0m\u001b[0mplot\u001b[0m\u001b[0;34m(\u001b[0m\u001b[0msub1_data\u001b[0m\u001b[0;34m[\u001b[0m\u001b[0;36m0\u001b[0m\u001b[0;34m]\u001b[0m\u001b[0;34m[\u001b[0m\u001b[0;34m:\u001b[0m\u001b[0mlen\u001b[0m\u001b[0;34m]\u001b[0m\u001b[0;34m,\u001b[0m \u001b[0msub1_data\u001b[0m\u001b[0;34m[\u001b[0m\u001b[0;36m3\u001b[0m\u001b[0;34m]\u001b[0m\u001b[0;34m[\u001b[0m\u001b[0;34m:\u001b[0m\u001b[0mlen\u001b[0m\u001b[0;34m]\u001b[0m\u001b[0;34m,\u001b[0m \u001b[0malpha\u001b[0m\u001b[0;34m=\u001b[0m\u001b[0;36m0.6\u001b[0m\u001b[0;34m)\u001b[0m\u001b[0;34m\u001b[0m\u001b[0;34m\u001b[0m\u001b[0m\n\u001b[1;32m      5\u001b[0m \u001b[0mplt\u001b[0m\u001b[0;34m.\u001b[0m\u001b[0mtitle\u001b[0m\u001b[0;34m(\u001b[0m\u001b[0;34m'Binned every 10 points'\u001b[0m\u001b[0;34m)\u001b[0m\u001b[0;34m\u001b[0m\u001b[0;34m\u001b[0m\u001b[0m\n",
            "\u001b[0;31mNameError\u001b[0m: name 'sub1_data' is not defined"
          ]
        }
      ]
    },
    {
      "cell_type": "markdown",
      "metadata": {
        "id": "TSU8Q8-KR6St"
      },
      "source": [
        "Plotting Power spectrum to see effect of ICA"
      ]
    },
    {
      "cell_type": "code",
      "metadata": {
        "id": "Hs_FIEv7SfkM"
      },
      "source": [
        "import numpy as np\n",
        "epochs= np.load('/content/drive/My Drive/sleep/ISRUC_sleep_dataset/2/stages.npy', allow_pickle= True)\n",
        "# lis= [0]\n",
        "# stages=['0']\n",
        "# for i in range(1,len(epochs)):\n",
        "\n",
        "#   #if epochs[i]== epochs[i-1]:\n",
        "\n",
        "#   if epochs[i]!= epochs[i-1]:\n",
        "#     lis.append(i)\n",
        "#     stages.append(epochs[i])"
      ],
      "execution_count": null,
      "outputs": []
    },
    {
      "cell_type": "code",
      "metadata": {
        "id": "JpOdEL3K-ohd"
      },
      "source": [
        "import numpy as np\n",
        "# plotting facilities\n",
        "import pylab\n",
        "import matplotlib.pyplot as plt\n",
        "from pyunicorn.timeseries import RecurrencePlot, RecurrenceNetwork"
      ],
      "execution_count": null,
      "outputs": []
    },
    {
      "cell_type": "code",
      "metadata": {
        "id": "j6KQcY3I-uwl",
        "outputId": "96fa24d8-dc52-47c7-81c4-1c18d19956fb",
        "colab": {
          "base_uri": "https://localhost:8080/"
        }
      },
      "source": [
        "import statsmodels.api as sm\n",
        "#normalisation\n",
        "mea= (mea - min(mea))/(max(mea)- min(mea))\n",
        "#autocorrelation\n",
        "tau=[]\n",
        "for j in range(1,942):\n",
        "  #fig =sm.graphics.tsa.plot_acf(sub1_data[3][i*6000: (i+1)*6000],lags=50,fft=True)\n",
        "  rel = sm.tsa.acf(mea[(j-1)*1000:(j)*1000], nlags=75, fft=True)\n",
        "  #plt.show()\n",
        "  y= np.arange(0,75,1.0)\n",
        "  for k in range(len(y)):\n",
        "    if (rel[k]-(1.0/np.e))<0.000001:\n",
        "      tau.append(k)\n",
        "      break\n",
        "print(tau)\n",
        "print(len(tau))"
      ],
      "execution_count": null,
      "outputs": [
        {
          "output_type": "stream",
          "text": [
            "[5, 2, 2, 2, 2, 2, 3, 3, 3, 4, 3, 3, 2, 3, 3, 3, 3, 3, 3, 4, 3, 3, 4, 3, 3, 3, 3, 3, 3, 3, 3, 4, 3, 6, 3, 3, 3, 2, 5, 3, 3, 3, 4, 3, 4, 3, 3, 4, 3, 5, 4, 4, 5, 6, 3, 5, 5, 5, 5, 3, 3, 6, 3, 4, 3, 6, 3, 4, 5, 3, 5, 3, 3, 3, 6, 3, 4, 6, 6, 2, 4, 3, 5, 3, 5, 7, 6, 3, 4, 5, 4, 5, 3, 4, 6, 5, 4, 6, 5, 4, 4, 5, 2, 3, 4, 5, 3, 5, 5, 4, 3, 5, 4, 5, 4, 5, 3, 5, 2, 8, 5, 7, 6, 3, 4, 1, 5, 3, 2, 4, 5, 3, 4, 5, 3, 5, 4, 3, 4, 4, 4, 4, 4, 6, 4, 7, 7, 3, 3, 4, 4, 5, 4, 6, 4, 5, 6, 3, 6, 4, 6, 5, 5, 6, 6, 6, 5, 6, 6, 6, 5, 6, 6, 5, 5, 7, 6, 5, 5, 5, 6, 6, 5, 5, 5, 5, 5, 6, 7, 6, 5, 6, 6, 5, 5, 5, 6, 5, 6, 6, 6, 3, 6, 6, 4, 6, 6, 5, 4, 6, 6, 5, 4, 4, 5, 5, 3, 4, 3, 3, 3, 3, 4, 4, 3, 3, 3, 3, 4, 3, 3, 4, 3, 3, 3, 3, 3, 3, 3, 6, 3, 7, 9, 5, 5, 5, 5, 5, 5, 2, 9, 9, 8, 7, 9, 6, 8, 5, 6, 5, 6, 5, 6, 5, 5, 4, 5, 6, 6, 2, 2, 2, 2, 2, 2, 2, 5, 2, 5, 6, 5, 5, 3, 3, 3, 3, 6, 4, 4, 8, 5, 3, 4, 3, 7, 3, 3, 3, 3, 5, 3, 3, 4, 3, 3, 3, 6, 3, 3, 4, 3, 6, 6, 5, 3, 3, 3, 5, 4, 5, 6, 3, 3, 4, 3, 4, 4, 5, 6, 6, 3, 4, 6, 5, 5, 4, 3, 3, 4, 5, 5, 4, 6, 4, 6, 4, 4, 3, 4, 3, 5, 3, 4, 5, 6, 4, 4, 6, 3, 4, 5, 6, 6, 5, 5, 5, 4, 5, 7, 5, 4, 5, 4, 7, 4, 4, 5, 4, 5, 6, 4, 5, 5, 6, 5, 5, 5, 5, 5, 4, 5, 6, 6, 5, 5, 6, 5, 7, 5, 6, 6, 6, 5, 5, 5, 6, 6, 6, 5, 6, 5, 6, 5, 6, 6, 6, 5, 6, 6, 5, 6, 7, 6, 6, 6, 5, 6, 7, 6, 6, 6, 6, 6, 6, 7, 5, 4, 3, 3, 3, 3, 3, 3, 4, 3, 3, 3, 4, 6, 6, 4, 4, 4, 3, 3, 3, 3, 3, 3, 4, 3, 2, 3, 4, 6, 6, 5, 5, 4, 3, 3, 6, 4, 6, 4, 6, 3, 3, 3, 8, 6, 3, 4, 3, 3, 3, 6, 3, 5, 6, 3, 6, 4, 4, 4, 5, 3, 5, 6, 4, 3, 6, 6, 5, 6, 5, 4, 4, 6, 4, 7, 5, 4, 6, 5, 6, 6, 4, 6, 5, 5, 5, 5, 5, 2, 3, 3, 6, 4, 6, 6, 5, 7, 5, 6, 3, 3, 4, 6, 3, 5, 7, 5, 4, 5, 6, 3, 6, 5, 4, 3, 7, 6, 6, 5, 5, 6, 5, 7, 5, 5, 6, 3, 5, 6, 5, 5, 6, 3, 6, 4, 4, 6, 3, 3, 3, 4, 4, 4, 3, 6, 4, 3, 7, 7, 5, 3, 4, 5, 3, 5, 10, 5, 3, 2, 5, 6, 6, 6, 5, 4, 4, 5, 3, 6, 3, 5, 6, 3, 6, 4, 3, 4, 6, 3, 4, 5, 4, 4, 6, 3, 5, 4, 5, 6, 5, 4, 6, 5, 7, 6, 6, 4, 7, 3, 3, 5, 6, 3, 7, 7, 3, 3, 5, 3, 3, 3, 6, 4, 5, 4, 4, 3, 4, 4, 4, 5, 9, 7, 6, 7, 4, 3, 3, 4, 3, 6, 5, 6, 3, 3, 5, 3, 4, 4, 3, 3, 4, 5, 4, 4, 4, 3, 5, 3, 5, 5, 4, 4, 5, 4, 7, 4, 4, 8, 3, 5, 4, 7, 5, 9, 5, 3, 3, 4, 3, 3, 3, 3, 3, 3, 3, 3, 3, 5, 3, 6, 4, 3, 5, 4, 3, 3, 3, 7, 7, 6, 5, 3, 3, 3, 4, 3, 3, 3, 3, 3, 3, 4, 3, 3, 3, 4, 3, 3, 3, 3, 3, 10, 3, 4, 5, 3, 5, 3, 3, 3, 3, 4, 3, 3, 3, 3, 3, 4, 3, 5, 7, 4, 3, 4, 5, 3, 6, 5, 9, 4, 9, 3, 3, 3, 3, 3, 3, 3, 3, 3, 6, 3, 4, 5, 6, 3, 4, 5, 3, 5, 6, 4, 4, 3, 3, 3, 3, 7, 4, 3, 3, 3, 3, 5, 3, 3, 4, 3, 3, 4, 5, 4, 4, 4, 4, 4, 4, 4, 4, 4, 4, 4, 4, 5, 4, 5, 4, 7, 5, 5, 4, 4, 5, 4, 4, 6, 4, 4, 6, 4, 5, 5, 5, 4, 5, 6, 5, 5, 7, 7, 4, 11, 5, 3, 3, 6, 3, 5, 7, 7, 3, 5, 4, 6, 5, 5, 4, 6, 6, 5, 5, 6, 3, 3, 7, 4, 6, 5, 4, 4, 6, 3, 4, 5, 3, 4, 3, 3, 4, 4, 4, 4, 3, 4, 3, 3, 7, 6, 5, 5, 4, 5, 9, 5, 6, 7, 6, 5, 9, 2, 3, 3, 4, 7, 6, 4, 4, 5, 3, 2, 8, 8, 6, 6, 10, 6, 8, 5, 6, 6, 11, 10, 6, 11]\n",
            "941\n"
          ],
          "name": "stdout"
        }
      ]
    },
    {
      "cell_type": "code",
      "metadata": {
        "id": "m-nDQ0abQotA"
      },
      "source": [
        "#  Generate a recurrence network at fixed threshold\n",
        "from pyunicorn.timeseries import RecurrencePlot, RecurrenceNetwork\n",
        "x = raw_ica[3]\n",
        "\n",
        "measures= np.zeros((5, 941))\n",
        "DIM=7\n",
        "for r in range(1,942):\n",
        "  rp = RecurrencePlot(x[(r-1)*1000: (r)*1000], dim=DIM, tau=tau[r-1], metric= \"euclidean\", normalize=False, threshold= 0.2)\n",
        "#  Calculate some standard RQA measures\n",
        "#DET = rp.determinism\n",
        "#LAM = rp.laminarity\n",
        "  rn = RecurrenceNetwork(x[(r-1)*1000: (r)*1000], dim=DIM, tau=tau[r-1], metric= \"euclidean\", normalize=False, threshold=0.2)#  Generate a recurrence network at fixed recurrence rate\n",
        "  measures[0][r-1]=rp.recurrence_rate()\n",
        "  print(type(rn))\n",
        "\n",
        "#  Calculate average path length, transitivity and assortativity\n",
        "  measures[1][r-1]= rn.average_path_length()\n",
        "  measures[2][r-1] = rn.transitivity()\n",
        "  measures[3][r-1]= rn.global_clustering()\n",
        "  #measures[4][r] = rn.assortativity()\n",
        "  print(r)\n"
      ],
      "execution_count": null,
      "outputs": []
    },
    {
      "cell_type": "code",
      "metadata": {
        "id": "QjKhwgLaR4DA"
      },
      "source": [],
      "execution_count": null,
      "outputs": []
    },
    {
      "cell_type": "code",
      "metadata": {
        "id": "dNOQgE4PVRyy",
        "outputId": "73551b8c-3dc3-43b8-a769-3adbc6abb50e",
        "colab": {
          "base_uri": "https://localhost:8080/"
        }
      },
      "source": [
        "print(len(measures[0]))"
      ],
      "execution_count": null,
      "outputs": [
        {
          "output_type": "stream",
          "text": [
            "941\n"
          ],
          "name": "stdout"
        }
      ]
    },
    {
      "cell_type": "code",
      "metadata": {
        "id": "rL1bDCNmVbHE",
        "outputId": "5a407947-e1ce-480b-ebfa-71007068ea4b",
        "colab": {
          "base_uri": "https://localhost:8080/"
        }
      },
      "source": [
        "print(len(epochs))"
      ],
      "execution_count": null,
      "outputs": [
        {
          "output_type": "stream",
          "text": [
            "942\n"
          ],
          "name": "stdout"
        }
      ]
    },
    {
      "cell_type": "code",
      "metadata": {
        "id": "uIRHuXyWVo3c"
      },
      "source": [
        "ti= range(0,941)\n",
        "plt.scatter(epochs[1:], measures[0][], s=0.4)\n",
        "plt.ylim()\n",
        "plt.show()"
      ],
      "execution_count": null,
      "outputs": []
    },
    {
      "cell_type": "code",
      "metadata": {
        "id": "wOPjsWPTR5N1",
        "outputId": "64ef4978-34b6-46db-ab3d-640de5f5485d",
        "colab": {
          "base_uri": "https://localhost:8080/",
          "height": 336
        }
      },
      "source": [
        "x = sub2_data[3]\n",
        "rp = RecurrencePlot(x[1572000:1578000], dim=7, tau=tau[263], metric= \"euclidean\", normalize=False, threshold= 0.35)\n",
        "rn = RecurrenceNetwork(x[1572000:1578000], dim=7, tau=tau[263], metric= \"euclidean\", normalize=False, threshold= 0.35)\n",
        "\n",
        "plt.plot(range(0,6000), x[1572000:1578000])\n",
        "plt.show()\n"
      ],
      "execution_count": null,
      "outputs": [
        {
          "output_type": "stream",
          "text": [
            "Calculating recurrence plot at fixed threshold...\n",
            "Calculating the euclidean distance matrix...\n",
            "Calculating recurrence plot at fixed threshold...\n",
            "Calculating the euclidean distance matrix...\n"
          ],
          "name": "stdout"
        },
        {
          "output_type": "display_data",
          "data": {
            "image/png": "[encoded data removed]",
            "text/plain": [
              "<Figure size 432x288 with 1 Axes>"
            ]
          },
          "metadata": {
            "tags": [],
            "needs_background": "light"
          }
        }
      ]
    },
    {
      "cell_type": "code",
      "metadata": {
        "id": "AwwVgcM8UdYt",
        "outputId": "42cb633b-e7d2-41cf-f6e5-3f8a39fb76d2",
        "colab": {
          "base_uri": "https://localhost:8080/"
        }
      },
      "source": [
        "print(tau[262])\n",
        "print('rr', rp.recurrence_rate())\n",
        "print('cc', rn.global_clustering())\n",
        "print('cpl', rn.average_path_length())"
      ],
      "execution_count": null,
      "outputs": [
        {
          "output_type": "stream",
          "text": [
            "6\n",
            "rr 0.00016756030291042033\n",
            "Calculating global clustering coefficient (C_2)...\n",
            "Calculating local clustering coefficients...\n",
            "cc 0.0\n",
            "Calculating average (weighted) shortest path length...\n",
            "cpl 1.0\n"
          ],
          "name": "stdout"
        }
      ]
    }
  ]
}