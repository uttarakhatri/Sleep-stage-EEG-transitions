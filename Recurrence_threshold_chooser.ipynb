{
  "nbformat": 4,
  "nbformat_minor": 0,
  "metadata": {
    "colab": {
      "provenance": [],
      "mount_file_id": "1YMvYDlMG9xBWI6lOD83XxvZU9agvJcRD",
      "authorship_tag": "ABX9TyNX6xXSvqy7qHyitnjGPT9N",
      "include_colab_link": true
    },
    "kernelspec": {
      "display_name": "Python 3",
      "name": "python3"
    },
    "language_info": {
      "name": "python"
    }
  },
  "cells": [
    {
      "cell_type": "markdown",
      "metadata": {
        "id": "view-in-github",
        "colab_type": "text"
      },
      "source": [
        "<a href=\"https://colab.research.google.com/github/uttarakhatri/Sleep-stage-EEG-transitions/blob/main/Recurrence_threshold_chooser.ipynb\" target=\"_parent\"><img src=\"https://colab.research.google.com/assets/colab-badge.svg\" alt=\"Open In Colab\"/></a>"
      ]
    },
    {
      "cell_type": "code",
      "metadata": {
        "id": "eLCOOj1Ci7Lj"
      },
      "source": [
        "#installing packages\n",
        "!echo \"deb http://downloads.skewed.de/apt bionic main\" >> /etc/apt/sources.list\n",
        "!apt-key adv --keyserver keys.openpgp.org --recv-key 612DEFB798507F25\n",
        "!apt-get update\n",
        "!apt-get install python3-graph-tool python3-cairo python3-matplotlib\n",
        "import graph_tool.all as gt\n",
        "\n",
        "#importing modules\n",
        "import numpy as np\n",
        "import matplotlib.pyplot as plt\n",
        "import statsmodels.api as sm\n",
        "from scipy.spatial import distance\n",
        "import pandas as pd\n",
        "import collections\n",
        "from mpl_toolkits import mplot3d\n",
        "%matplotlib inline\n",
        "import seaborn as sns"
      ],
      "execution_count": null,
      "outputs": []
    },
    {
      "cell_type": "code",
      "metadata": {
        "id": "xlnh6WikjGQE"
      },
      "source": [
        "sub_rn_thr= np.zeros((10,6,20))\n",
        "def rnthr():\n",
        "\n",
        "  for subj in range(1,11):\n",
        "    print(subj)\n",
        "    stop_stages= np.load('/content/drive/MyDrive/sleep/ISRUC_sleep_dataset/random_epochs/'+str(subj)+ '_1_random_60_epochs.npy')\n",
        "    sub_w_stop= stop_stages[4]\n",
        "    start= (sub_w_stop-1)[:20]\n",
        "    sub1= np.load('/content/drive/My Drive/sleep/ISRUC_sleep_dataset/ICA/' + str(subj)+ '_ica_pc.npy')\n",
        "    for channel in range(3,4):\n",
        "      rec_thr_w=[]\n",
        "      print((channel))\n",
        "      for g in range(len(start)):\n",
        "        #for each channel, each stage, RN analysis code\n",
        "        #embedding\n",
        "        tau=0\n",
        "        da= sub1[channel][int(start[g]*6000):int((start[g]+1)*6000)]\n",
        "        da= (da-min(da))/(max(da)-min(da))\n",
        "        rel = sm.tsa.acf(da, nlags=75, fft=True)\n",
        "        y= np.arange(0,75,1.0)\n",
        "        for k in range(len(y)):\n",
        "          if (rel[k]-(np.e**(-1)))<10**(-6):\n",
        "            tau=k\n",
        "            break\n",
        "        le=int(len(da)-6*tau)\n",
        "        dim= np.zeros((6,le))\n",
        "        for i in range(6):\n",
        "          for j in range(le):\n",
        "              dim[i][j]=(da[j+i*tau])\n",
        "        tra=dim.transpose()\n",
        "        rec_matrix= np.zeros((le,le))\n",
        "        rec_thr= np.arange(0.09,0.3,0.02)\n",
        "        for c in range(len(rec_thr)):\n",
        "          rec_matrix = (distance.cdist(tra,tra,'euclidean')<=rec_thr[c]) -(np.identity(le))\n",
        "          g1= gt.Graph(directed=False)\n",
        "          g1.add_edge_list(np.transpose(np.transpose(rec_matrix).nonzero()))\n",
        "          l=gt.label_largest_component(g1)\n",
        "          u = gt.GraphView(g1, vfilt = l)\n",
        "          if (u.num_vertices()/le)>=0.95:\n",
        "            #print(u.num_vertices()/le)\n",
        "            #print(rec_thr[c])\n",
        "            sub_rn_thr[subj-1][channel-3][g]=rec_thr[c]\n",
        "            rec_thr_w.append(rec_thr[c])\n",
        "            break\n",
        "      print((np.mean(rec_thr_w), subj, channel))\n",
        "      #sub_rn_thr[i-1][channel-3]= rec_thr_w\n"
      ],
      "execution_count": null,
      "outputs": []
    },
    {
      "cell_type": "code",
      "metadata": {
        "id": "ykgI-8YejW5T"
      },
      "source": [
        "rnthr()\n"
      ],
      "execution_count": null,
      "outputs": []
    },
    {
      "cell_type": "code",
      "metadata": {
        "id": "aN7S_HNqWUcN"
      },
      "source": [
        "print(sub_rn_thr[0:10][0])"
      ],
      "execution_count": null,
      "outputs": []
    },
    {
      "cell_type": "code",
      "metadata": {
        "id": "ZRHighEbbFg2"
      },
      "source": [
        "for subje in range(10):\n",
        "  plt.scatter([1],np.mean(sub_rn_thr[subje][0]))"
      ],
      "execution_count": null,
      "outputs": []
    },
    {
      "cell_type": "code",
      "metadata": {
        "id": "q47IO91YxEAW"
      },
      "source": [],
      "execution_count": null,
      "outputs": []
    }
  ]
}