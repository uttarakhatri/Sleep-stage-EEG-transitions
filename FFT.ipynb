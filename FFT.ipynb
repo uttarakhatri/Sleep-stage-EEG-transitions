{
  "nbformat": 4,
  "nbformat_minor": 0,
  "metadata": {
    "colab": {
      "provenance": [],
      "mount_file_id": "1yPN5_8W3slTXo8XbfoJtRgUykZ4fgnR5",
      "authorship_tag": "ABX9TyMFiTu09K64Sy0KNZtPqtOX",
      "include_colab_link": true
    },
    "kernelspec": {
      "display_name": "Python 3",
      "name": "python3"
    }
  },
  "cells": [
    {
      "cell_type": "markdown",
      "metadata": {
        "id": "view-in-github",
        "colab_type": "text"
      },
      "source": [
        "<a href=\"https://colab.research.google.com/github/uttarakhatri/Sleep-stage-EEG-transitions/blob/main/FFT.ipynb\" target=\"_parent\"><img src=\"https://colab.research.google.com/assets/colab-badge.svg\" alt=\"Open In Colab\"/></a>"
      ]
    },
    {
      "cell_type": "code",
      "metadata": {
        "id": "qx8PmDArfXGy"
      },
      "source": [
        "from scipy.fft import fft, fftfreq\n",
        "import matplotlib.pyplot as plt\n",
        "import numpy as np\n",
        "thr=np.arange(10,130,10)\n",
        "fft_peaks= np.zeros((5,6,60,6000))\n",
        "stage= ['N1', 'N2', 'N3', 'R', 'W']\n",
        "ch= ['FR', 'CR', 'OR', 'FL','CL','OL']\n",
        "def fftf(sub,start):\n",
        "  fig, ax = plt.subplots(5,5, figsize=(20,20))\n",
        "  for stages in range(0,5):\n",
        "    for channel in range(3,9):\n",
        "      for g in range(0,60):\n",
        "      #print(start[g])\n",
        "      #for each channel, each stage, RN analysis code\n",
        "      #embedding\n",
        "      #print((channel,g))\n",
        "        SAMPLE_RATE=200\n",
        "        tau=0\n",
        "        da= sub[channel-3][int(start[stages][g]-1)*6000:int(start[stages][g])*6000]\n",
        "        da= (da-min(da))/(max(da)-min(da))\n",
        "        N = 6000\n",
        "\n",
        "        yf = np.abs(np.fft.fft(da))\n",
        "        fft_peaks[stages][channel-3][g]=yf\n",
        "        xf = fftfreq(N, 1 / SAMPLE_RATE)\n",
        "        # print(xf)\n",
        "        # print(yf)\n",
        "\n",
        "        ax[stages,g].plot(xf, np.abs(yf), label= str(ch[channel-3]))\n",
        "        # ax[stages,g].set_xlim(0,4)\n",
        "        # ax[stages,g].set_ylim(0,150)\n",
        "        # ax[stages,g].legend()\n",
        "        # ax[stages,g].set_title(str(stage[stages]))\n",
        "        # for j in range(len(thr)):\n",
        "\n",
        "        #   larger_elements = [element for element in np.abs(yf) if element > thr[j]]\n",
        "\n",
        "        #   number_of_elements = len(larger_elements)\n",
        "        #   fft_peaks[stages][j][g]=number_of_elements\n",
        "\n",
        "        #print(number_of_elements)\n",
        "\n",
        "      #plt.savefig('/content/drive/My Drive/sleep/ISRUC_sleep_dataset/FFTs/feb25_FFT_sub7FFTs_delta.png')\n",
        "  #plt.show()\n",
        "  #np.save('/content/drive/MyDrive/sleep/ISRUC_sleep_dataset/FFT/sub1_fft_peaks.npy', fft_peaks)"
      ],
      "execution_count": null,
      "outputs": []
    },
    {
      "cell_type": "code",
      "metadata": {
        "id": "Zr2S1wbdfo0B"
      },
      "source": [
        "sb=2\n",
        "sub1= np.load('/content/drive/My Drive/sleep/ISRUC_sleep_dataset/'+ str(sb)+ '/' + str(sb)+ '_ica_pc.npy')\n",
        "stop_stages= np.load('/content/drive/MyDrive/sleep/ISRUC_sleep_dataset/2/2_1_random_60_epochs.npy')\n",
        "fftf(sub1,stop_stages)\n",
        "#print(fft_peaks)"
      ],
      "execution_count": null,
      "outputs": []
    },
    {
      "cell_type": "code",
      "metadata": {
        "id": "EuzbzdWOpkMi"
      },
      "source": [
        "fft_peaks_7=np.load('/content/drive/MyDrive/sleep/ISRUC_sleep_dataset/FFT/sub7_cha3_FFT_peaks.npy')\n",
        "fft_peaks_8=np.load('/content/drive/MyDrive/sleep/ISRUC_sleep_dataset/FFT/sub8_cha3_FFT_peaks.npy')\n",
        "fft_peak_avg= np.zeros((2,5,12))\n",
        "fft_peak_std= np.zeros((2,5,12))\n",
        "for pthr in range(5):\n",
        "  fft_peak_avg[0][pthr]= np.mean(fft_peaks_7[pthr], axis=1)\n",
        "  fft_peak_std[0][pthr]= np.std(fft_peaks_7[pthr], axis=1)\n",
        "  fft_peak_avg[1][pthr]= np.mean(fft_peaks_8[pthr], axis=1)\n",
        "  fft_peak_std[1][pthr]= np.std(fft_peaks_8[pthr], axis=1)\n",
        "#print(fft_peak_avg)\n",
        "#plt.errorbar(['N1', 'N2', 'N3', 'R', 'W'], fft_peak_avg, yerr=fft_peak_std, fmt='o')"
      ],
      "execution_count": null,
      "outputs": []
    },
    {
      "cell_type": "code",
      "metadata": {
        "id": "Vj7XyW-KNLpQ"
      },
      "source": [
        "stage= ['N1', 'N2', 'N3', 'R', 'W']\n",
        "for pthres in range(0,):\n",
        "  plt.errorbar(thr[1:],fft_peak_avg[pthres][1:], yerr= fft_peak_std[pthres][1:], fmt= 'o', label= str(stage[pthres]))\n",
        "  plt.legend()\n"
      ],
      "execution_count": null,
      "outputs": []
    },
    {
      "cell_type": "code",
      "metadata": {
        "id": "hpKzl64IRMSo"
      },
      "source": [
        "def plotfft(thrstart1,thrstart2,sta1,sta2):\n",
        "  fig, ax = plt.subplots(2,2, figsize=(10,10))\n",
        "  stage=['N1', 'N2', 'N3', 'R', 'W']\n",
        "  ax[0,0].errorbar(thr[thrstart1:],fft_peak_avg[0][sta1][thrstart1:], yerr= fft_peak_std[0][sta1][thrstart1:], fmt= 'o', label= str(stage[sta1]))\n",
        "  ax[0,0].errorbar(thr[thrstart1:],fft_peak_avg[0][sta2][thrstart1:], yerr= fft_peak_std[0][sta2][thrstart1:], fmt= 'o', label= str(stage[sta2]))\n",
        "  ax[1,0].errorbar(thr[thrstart2:],fft_peak_avg[0][sta1][thrstart2:], yerr= fft_peak_std[0][sta1][thrstart2:], fmt= 'o', label= str(stage[sta1]))\n",
        "  ax[1,0].errorbar(thr[thrstart2:],fft_peak_avg[0][sta2][thrstart2:], yerr= fft_peak_std[0][sta2][thrstart2:], fmt= 'o', label= str(stage[sta2]))\n",
        "\n",
        "  ax[0,1].errorbar(thr[thrstart1:],fft_peak_avg[1][sta1][thrstart1:], yerr= fft_peak_std[1][sta1][thrstart1:], fmt= 'o', label= str(stage[sta1]))\n",
        "  ax[0,1].errorbar(thr[thrstart1:],fft_peak_avg[1][sta2][thrstart1:], yerr= fft_peak_std[1][sta2][thrstart1:], fmt= 'o', label= str(stage[sta2]))\n",
        "  ax[1,1].errorbar(thr[thrstart2:],fft_peak_avg[1][sta1][thrstart2:], yerr= fft_peak_std[1][sta1][thrstart2:], fmt= 'o', label= str(stage[sta1]))\n",
        "  ax[1,1].errorbar(thr[thrstart2:],fft_peak_avg[1][sta2][thrstart2:], yerr= fft_peak_std[1][sta2][thrstart2:], fmt= 'o', label= str(stage[sta2]))\n",
        "  ax[0,0].legend()\n",
        "  ax[1,0].legend()\n",
        "  ax[0,1].legend()\n",
        "  ax[1,1].legend()\n",
        "  ax[0,0].set_title('sub7_above_30')\n",
        "  ax[1,0].set_title('sub7_above_50')\n",
        "  ax[0,1].set_title('sub8_above_30')\n",
        "  ax[1,1].set_title('sub8_above_50')\n",
        "  #plt.title('sub7_scaling_channel_FR_'+ str(stage[sta1]) + '_'+ str(stage[sta2]) + '_above_'+str(thr[thrstart]))\n",
        "  plt.savefig(('/content/drive/My Drive/sleep/ISRUC_sleep_dataset/FFT/FFT_sub7and8_comparison/sub7_and_8_scaling_FR_'+ str(stage[sta1] + '_'+ str(stage[sta2])+'_14march.png')))\n",
        "  plt.show()\n",
        "plotfft(2,4,0,1)\n"
      ],
      "execution_count": null,
      "outputs": []
    },
    {
      "cell_type": "markdown",
      "metadata": {
        "id": "-7ZrIm2dQzLf"
      },
      "source": [
        "Code to calculate the number of peaks above a threshold band wise"
      ]
    },
    {
      "cell_type": "code",
      "metadata": {
        "id": "GWnHAes7Q5yt"
      },
      "source": [],
      "execution_count": null,
      "outputs": []
    }
  ]
}